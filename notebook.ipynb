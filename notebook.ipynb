{
 "cells": [
  {
   "cell_type": "code",
   "execution_count": 1,
   "metadata": {},
   "outputs": [],
   "source": [
    "# Statement\n",
    "import requests\n",
    "import pandas as pd"
   ]
  },
  {
   "cell_type": "code",
   "execution_count": 12,
   "metadata": {},
   "outputs": [],
   "source": [
    "api_url = \"https://api.openweathermap.org/data/2.5/weather?lat=43.771912&lon=-79.467728&units=metric\"\n",
    "\n",
    "query_params = {\n",
    "    'lat': 43.771912,\n",
    "    'log': -79.467728,\n",
    "    'units': 'metric',\n",
    "    'appid': '83fadc4461d3ef01a1c0e1a0a3983a7a'\n",
    "        }\n",
    "\n",
    "\n",
    "request_headers = {\n",
    "    'user-agent': \"Mozilla/5.0 (Windows NT 10.0; Win64; x64) AppleWebKit/537.36 (KHTML, like Gecko) Chrome/126.0.0.0 Safari/537.36\"\n",
    "}"
   ]
  },
  {
   "cell_type": "code",
   "execution_count": 13,
   "metadata": {},
   "outputs": [],
   "source": [
    "x = requests.get(api_url, params= query_params, headers = request_headers)"
   ]
  },
  {
   "cell_type": "code",
   "execution_count": 14,
   "metadata": {},
   "outputs": [
    {
     "data": {
      "text/plain": [
       "200"
      ]
     },
     "execution_count": 14,
     "metadata": {},
     "output_type": "execute_result"
    }
   ],
   "source": [
    "x.status_code"
   ]
  },
  {
   "cell_type": "code",
   "execution_count": 15,
   "metadata": {},
   "outputs": [],
   "source": [
    "# Convert to JSON:\n",
    "data = x.json()"
   ]
  },
  {
   "cell_type": "code",
   "execution_count": 16,
   "metadata": {},
   "outputs": [
    {
     "data": {
      "text/plain": [
       "{'coord': {'lon': -79.4677, 'lat': 43.7719},\n",
       " 'weather': [{'id': 803,\n",
       "   'main': 'Clouds',\n",
       "   'description': 'broken clouds',\n",
       "   'icon': '04n'}],\n",
       " 'base': 'stations',\n",
       " 'main': {'temp': 23.7,\n",
       "  'feels_like': 23.85,\n",
       "  'temp_min': 22.2,\n",
       "  'temp_max': 24.57,\n",
       "  'pressure': 1015,\n",
       "  'humidity': 66,\n",
       "  'sea_level': 1015,\n",
       "  'grnd_level': 993},\n",
       " 'visibility': 10000,\n",
       " 'wind': {'speed': 3.09, 'deg': 70},\n",
       " 'clouds': {'all': 75},\n",
       " 'dt': 1721697600,\n",
       " 'sys': {'type': 2,\n",
       "  'id': 2036018,\n",
       "  'country': 'CA',\n",
       "  'sunrise': 1721642197,\n",
       "  'sunset': 1721695903},\n",
       " 'timezone': -14400,\n",
       " 'id': 5926526,\n",
       " 'name': 'Concord',\n",
       " 'cod': 200}"
      ]
     },
     "execution_count": 16,
     "metadata": {},
     "output_type": "execute_result"
    }
   ],
   "source": [
    "data"
   ]
  },
  {
   "cell_type": "code",
   "execution_count": 10,
   "metadata": {},
   "outputs": [
    {
     "data": {
      "text/plain": [
       "{'temp': 23.7,\n",
       " 'feels_like': 23.85,\n",
       " 'temp_min': 22.2,\n",
       " 'temp_max': 24.57,\n",
       " 'pressure': 1015,\n",
       " 'humidity': 66,\n",
       " 'sea_level': 1015,\n",
       " 'grnd_level': 993}"
      ]
     },
     "execution_count": 10,
     "metadata": {},
     "output_type": "execute_result"
    }
   ],
   "source": [
    "data[\"main\"]"
   ]
  },
  {
   "cell_type": "code",
   "execution_count": 17,
   "metadata": {},
   "outputs": [
    {
     "data": {
      "text/plain": [
       "{'coord': {'lon': -79.4677, 'lat': 43.7719},\n",
       " 'weather': [{'id': 803,\n",
       "   'main': 'Clouds',\n",
       "   'description': 'broken clouds',\n",
       "   'icon': '04n'}],\n",
       " 'base': 'stations',\n",
       " 'main': {'temp': 23.7,\n",
       "  'feels_like': 23.85,\n",
       "  'temp_min': 22.2,\n",
       "  'temp_max': 24.57,\n",
       "  'pressure': 1015,\n",
       "  'humidity': 66,\n",
       "  'sea_level': 1015,\n",
       "  'grnd_level': 993},\n",
       " 'visibility': 10000,\n",
       " 'wind': {'speed': 3.09, 'deg': 70},\n",
       " 'clouds': {'all': 75},\n",
       " 'dt': 1721697600,\n",
       " 'sys': {'type': 2,\n",
       "  'id': 2036018,\n",
       "  'country': 'CA',\n",
       "  'sunrise': 1721642197,\n",
       "  'sunset': 1721695903},\n",
       " 'timezone': -14400,\n",
       " 'id': 5926526,\n",
       " 'name': 'Concord',\n",
       " 'cod': 200}"
      ]
     },
     "execution_count": 17,
     "metadata": {},
     "output_type": "execute_result"
    }
   ],
   "source": [
    "data"
   ]
  },
  {
   "cell_type": "code",
   "execution_count": null,
   "metadata": {},
   "outputs": [],
   "source": []
  }
 ],
 "metadata": {
  "kernelspec": {
   "display_name": ".venv",
   "language": "python",
   "name": "python3"
  },
  "language_info": {
   "codemirror_mode": {
    "name": "ipython",
    "version": 3
   },
   "file_extension": ".py",
   "mimetype": "text/x-python",
   "name": "python",
   "nbconvert_exporter": "python",
   "pygments_lexer": "ipython3",
   "version": "3.12.4"
  }
 },
 "nbformat": 4,
 "nbformat_minor": 2
}
